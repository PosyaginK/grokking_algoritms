{
 "cells": [
  {
   "cell_type": "markdown",
   "id": "48887b9a-32dd-4f8b-8034-bae0cef3e77b",
   "metadata": {},
   "source": [
    "# Грокаем алгоритмы "
   ]
  },
  {
   "cell_type": "markdown",
   "id": "9368e35d-de97-4e03-bf1c-6b8c92f11a94",
   "metadata": {},
   "source": [
    "## Адитья Бхаргава "
   ]
  },
  {
   "cell_type": "markdown",
   "id": "d6f828f3-e69f-4768-8894-83e7ee049965",
   "metadata": {},
   "source": [
    "### Иллюстрированное пособие для программистов и любопытствующих "
   ]
  },
  {
   "cell_type": "markdown",
   "id": "6aacbc60-4a69-43e5-9aa7-d6b11bc355e0",
   "metadata": {},
   "source": [
    "### Посягин Костя:\n",
    "Цель: Уверенее разбираться в алгортимах\n",
    "\n",
    "Формат: Каждый день я буду читать книгу Адитья Бхаргавы \"Гракаем алгоритмы\" и конспектировать сюда самые важные моменты с примерами и иллюстрациями."
   ]
  },
  {
   "cell_type": "markdown",
   "id": "d29f6c3b-009a-4a35-9492-e50fd4a27f5d",
   "metadata": {},
   "source": [
    "________________________________________________________________________________________"
   ]
  },
  {
   "cell_type": "markdown",
   "id": "48f385c9-7f37-478b-aa41-db60862faedb",
   "metadata": {},
   "source": [
    "# Глава 1"
   ]
  },
  {
   "cell_type": "markdown",
   "id": "e3c0bb9f-84b0-43e1-af19-d8b6c6ed0156",
   "metadata": {},
   "source": [
    "Алгоритмом называется набор инструкций для выполнения некоторой задачи."
   ]
  },
  {
   "cell_type": "markdown",
   "id": "3f0cf902-def7-43b8-90fc-14a2af683207",
   "metadata": {},
   "source": [
    "## Бинарный поиск "
   ]
  },
  {
   "cell_type": "markdown",
   "id": "ddd7c0fc-414b-4915-a74b-d16a037de607",
   "metadata": {},
   "source": [
    "Бинарный поиск - это алгоритм; на входе он получает отсортированнай список элементов.\n",
    "\n",
    "Если искомый элемент присутствует в списке, то бинарный поиск возвращает ту позицию, в которой он был найден. В противном случае бинарный поиск вернет null."
   ]
  },
  {
   "cell_type": "markdown",
   "id": "46076520-da53-4979-8b2f-7e20f2087ed2",
   "metadata": {},
   "source": [
    "Бинарный поиск делит диапозон всех значений пополам и сключает одну из половин диапазона."
   ]
  },
  {
   "cell_type": "markdown",
   "id": "55117672-bfca-4be2-9837-1ede446c0c9d",
   "metadata": {},
   "source": [
    "В общем случае для списка из n элементов бинарный поиск выполняется за log2n шагов, тогда как простой поиск будет выполнен за n шагов."
   ]
  },
  {
   "cell_type": "markdown",
   "id": "ee09a614-7814-446a-8720-87240376a6c9",
   "metadata": {},
   "source": [
    "ПРИМЧАНИЕ\n",
    "Бинарный поиск работает только в том случае, если список отсортирован."
   ]
  },
  {
   "cell_type": "code",
   "execution_count": 1,
   "id": "1f71a89f-13cc-467b-982c-4e86ec86a152",
   "metadata": {},
   "outputs": [],
   "source": [
    "def binary_search(list, item):\n",
    "    low = 0\n",
    "    high = len(list) - 1\n",
    "    \n",
    "    while low <= high:\n",
    "        mid = int((low + high) / 2)\n",
    "        guess = list[mid]\n",
    "        if guess == item:\n",
    "            return mid\n",
    "        elif guess > item:\n",
    "            high = mid - 1\n",
    "        else:\n",
    "            low = mid + 1\n",
    "    return None"
   ]
  },
  {
   "cell_type": "code",
   "execution_count": 2,
   "id": "07d449db-2da8-4eec-9653-cd9766c1c251",
   "metadata": {},
   "outputs": [],
   "source": [
    "my_list = [1, 3, 5, 7, 9, 11, 13, 15, 17, 19]"
   ]
  },
  {
   "cell_type": "code",
   "execution_count": 3,
   "id": "ca60a090-eea6-489b-bcc5-d15cce2fcd03",
   "metadata": {},
   "outputs": [
    {
     "name": "stdout",
     "output_type": "stream",
     "text": [
      "5\n"
     ]
    }
   ],
   "source": [
    "print(binary_search(my_list, 11))"
   ]
  },
  {
   "cell_type": "markdown",
   "id": "dd330147-fbad-4bbb-9fd1-5559cb36d0d6",
   "metadata": {},
   "source": [
    "## Упражнения "
   ]
  },
  {
   "cell_type": "markdown",
   "id": "42341521-9ef9-4ec4-bec5-ea5e4facfaa9",
   "metadata": {},
   "source": [
    "1.1 Имеется отсортированный список из 128 имен, и вы ищите в нем значение методом бинарного поиска. Какое максимальное количество проверок для этого может потребоваться?"
   ]
  },
  {
   "cell_type": "markdown",
   "id": "463e3fed-a1a4-44b1-9892-7b9be4f6956d",
   "metadata": {},
   "source": [
    "Максимальное число проверок - log128 == 7 | (2**7 = 128)"
   ]
  },
  {
   "cell_type": "markdown",
   "id": "d08f7aae-8f69-4b3a-b160-dce452cc175e",
   "metadata": {},
   "source": [
    "1.2 Предположим, размер списка увеличился вдвое. Как изменится максимальное количество проверок."
   ]
  },
  {
   "cell_type": "markdown",
   "id": "ab11dc1c-9570-41df-9948-1ef3de0a8906",
   "metadata": {},
   "source": [
    "Увеличится на 1.\n",
    "    \n",
    "    log256 == 8 | (2**8 = 256)"
   ]
  },
  {
   "cell_type": "markdown",
   "id": "79173af2-1a39-4a84-a76f-57a68ec72bd2",
   "metadata": {},
   "source": [
    "## Время выполнения"
   ]
  },
  {
   "cell_type": "markdown",
   "id": "104b7ccc-0cd5-404a-adf8-d7a2f425c5d7",
   "metadata": {},
   "source": [
    "Когда максимальное количество попыток совпадает с размером списка, время выполнения называется линейным."
   ]
  },
  {
   "cell_type": "code",
   "execution_count": 4,
   "id": "f2e9f1ea-c601-4c56-98c8-dd2606a3e66e",
   "metadata": {},
   "outputs": [],
   "source": [
    "import pandas as pd"
   ]
  },
  {
   "cell_type": "code",
   "execution_count": 5,
   "id": "d19b2686-37a0-4bd4-bc88-764e63590a57",
   "metadata": {},
   "outputs": [
    {
     "data": {
      "text/html": [
       "<div>\n",
       "<style scoped>\n",
       "    .dataframe tbody tr th:only-of-type {\n",
       "        vertical-align: middle;\n",
       "    }\n",
       "\n",
       "    .dataframe tbody tr th {\n",
       "        vertical-align: top;\n",
       "    }\n",
       "\n",
       "    .dataframe thead th {\n",
       "        text-align: right;\n",
       "    }\n",
       "</style>\n",
       "<table border=\"1\" class=\"dataframe\">\n",
       "  <thead>\n",
       "    <tr style=\"text-align: right;\">\n",
       "      <th></th>\n",
       "      <th>Простой поиск</th>\n",
       "      <th>Бинарный поиск</th>\n",
       "    </tr>\n",
       "  </thead>\n",
       "  <tbody>\n",
       "    <tr>\n",
       "      <th>1</th>\n",
       "      <td>100 элементов -&gt; 100 попыток</td>\n",
       "      <td>100 элементов -&gt; 7 попыток</td>\n",
       "    </tr>\n",
       "    <tr>\n",
       "      <th>2</th>\n",
       "      <td>4 млрд. элементов -&gt; 4 млрд. попыток</td>\n",
       "      <td>4 млрд. элементов -&gt; 32 попытки</td>\n",
       "    </tr>\n",
       "    <tr>\n",
       "      <th>Время выполнения:</th>\n",
       "      <td>O(n)</td>\n",
       "      <td>O(log n)</td>\n",
       "    </tr>\n",
       "  </tbody>\n",
       "</table>\n",
       "</div>"
      ],
      "text/plain": [
       "                                          Простой поиск  \\\n",
       "1                          100 элементов -> 100 попыток   \n",
       "2                  4 млрд. элементов -> 4 млрд. попыток   \n",
       "Время выполнения:                                  O(n)   \n",
       "\n",
       "                                    Бинарный поиск  \n",
       "1                       100 элементов -> 7 попыток  \n",
       "2                  4 млрд. элементов -> 32 попытки  \n",
       "Время выполнения:                         O(log n)  "
      ]
     },
     "execution_count": 5,
     "metadata": {},
     "output_type": "execute_result"
    }
   ],
   "source": [
    "time_run = pd.DataFrame({\n",
    "    \"Простой поиск\": ['100 элементов -> 100 попыток', '4 млрд. элементов -> 4 млрд. попыток', 'O(n)'],\n",
    "    \"Бинарный поиск\": ['100 элементов -> 7 попыток', '4 млрд. элементов -> 32 попытки', 'O(log n)']\n",
    "}, index=[1, 2, 'Время выполнения:'])\n",
    "\n",
    "time_run"
   ]
  },
  {
   "cell_type": "code",
   "execution_count": 6,
   "id": "1c21dfe6-29ea-4d51-aa71-9f859180d192",
   "metadata": {},
   "outputs": [
    {
     "data": {
      "text/plain": [
       "1073741824"
      ]
     },
     "execution_count": 6,
     "metadata": {},
     "output_type": "execute_result"
    }
   ],
   "source": [
    "2**30"
   ]
  },
  {
   "cell_type": "markdown",
   "id": "81ec91bd-5245-4e4e-94e1-4897d7de063b",
   "metadata": {},
   "source": [
    "Время выполнения для бинарного и простого поиска растет с разной скоростью."
   ]
  },
  {
   "cell_type": "code",
   "execution_count": 7,
   "id": "55029a83-458e-4f92-843a-51daca569837",
   "metadata": {},
   "outputs": [
    {
     "data": {
      "text/html": [
       "<div>\n",
       "<style scoped>\n",
       "    .dataframe tbody tr th:only-of-type {\n",
       "        vertical-align: middle;\n",
       "    }\n",
       "\n",
       "    .dataframe tbody tr th {\n",
       "        vertical-align: top;\n",
       "    }\n",
       "\n",
       "    .dataframe thead th {\n",
       "        text-align: right;\n",
       "    }\n",
       "</style>\n",
       "<table border=\"1\" class=\"dataframe\">\n",
       "  <thead>\n",
       "    <tr style=\"text-align: right;\">\n",
       "      <th></th>\n",
       "      <th>Простой поиск</th>\n",
       "      <th>Бинарный поиск</th>\n",
       "    </tr>\n",
       "  </thead>\n",
       "  <tbody>\n",
       "    <tr>\n",
       "      <th>100 элементов</th>\n",
       "      <td>100 мс</td>\n",
       "      <td>7 мс</td>\n",
       "    </tr>\n",
       "    <tr>\n",
       "      <th>10 000 элементов</th>\n",
       "      <td>10 секунд</td>\n",
       "      <td>14 мс</td>\n",
       "    </tr>\n",
       "    <tr>\n",
       "      <th>1 000 000 000 элементов</th>\n",
       "      <td>11 дней</td>\n",
       "      <td>32 мс</td>\n",
       "    </tr>\n",
       "  </tbody>\n",
       "</table>\n",
       "</div>"
      ],
      "text/plain": [
       "                        Простой поиск Бинарный поиск\n",
       "100 элементов                  100 мс           7 мс\n",
       "10 000 элементов            10 секунд          14 мс\n",
       "1 000 000 000 элементов       11 дней          32 мс"
      ]
     },
     "execution_count": 7,
     "metadata": {},
     "output_type": "execute_result"
    }
   ],
   "source": [
    "t = pd.DataFrame({\n",
    "    \"Простой поиск\": ['100 мс', '10 секунд', '11 дней'],\n",
    "    \"Бинарный поиск\": ['7 мс', '14 мс', '32 мс']\n",
    "}, index=['100 элементов', '10 000 элементов', '1 000 000 000 элементов'])\n",
    "\n",
    "t"
   ]
  },
  {
   "cell_type": "markdown",
   "id": "890eeda6-9a21-40f8-9041-ddba06bb9aa4",
   "metadata": {},
   "source": [
    "\"О-большое\" описыват, насколько быстро работает алгоритм.\n",
    "    \n",
    "    Предположим имеется список размера n. Простой поиск должен проверить каждый элемент, поэтому ему придется выполнить n операций. Время выполнения \"О-большое\" имеет вид O(n).\n",
    "    \n",
    "    Бинарнму поиску потребуется log n операций. \"О-большое\" будет выглядеть так: O(log n)."
   ]
  },
  {
   "cell_type": "markdown",
   "id": "81d7be56-6f64-4602-a784-74e7aa491a0b",
   "metadata": {},
   "source": [
    "### Типичные примеры \"О-большого\" "
   ]
  },
  {
   "cell_type": "markdown",
   "id": "91e31a92-5672-4191-a837-f30e4979f0e2",
   "metadata": {},
   "source": [
    "O(log n), или Логарифмическое время. Пример: бинарный поиск."
   ]
  },
  {
   "cell_type": "markdown",
   "id": "a67e84ab-6188-4812-ac55-8d880643ffb9",
   "metadata": {},
   "source": [
    "O(n), или линейное время. Пример: простой поиск."
   ]
  },
  {
   "cell_type": "markdown",
   "id": "c468c841-2456-4ea0-b3b0-5c50d94ccdd6",
   "metadata": {},
   "source": [
    "O(n * log n). Пример: эффективные алгоритмы сортировки (быстрая сортировка)."
   ]
  },
  {
   "cell_type": "markdown",
   "id": "6bf602c3-4dcd-416b-88bd-51f63ff68ed1",
   "metadata": {},
   "source": [
    "O(n**2). Пример: медленные алгоритмы сортировки (сортировка выбором)."
   ]
  },
  {
   "cell_type": "markdown",
   "id": "185faa48-ad02-4464-930e-e9d9961ff5a8",
   "metadata": {},
   "source": [
    "O(n!). Пример: очень медленные алгоритмы (задача о коммивояжере)."
   ]
  },
  {
   "cell_type": "code",
   "execution_count": 8,
   "id": "0b829775-5718-4e61-bcc3-88d3c9f43ba0",
   "metadata": {},
   "outputs": [],
   "source": [
    "from matplotlib import pyplot as plt\n",
    "import numpy as np\n",
    "np.seterr(divide = 'ignore', invalid='ignore') \n",
    "%matplotlib inline"
   ]
  },
  {
   "cell_type": "code",
   "execution_count": 9,
   "id": "375c0cea-e774-4b55-94e0-46375880869b",
   "metadata": {},
   "outputs": [],
   "source": [
    "x = np.arange(0, 1001)\n",
    "y = x\n",
    "y1 = np.log(x)\n",
    "y2 = x * (np.log(x))\n",
    "y3 = x**2"
   ]
  },
  {
   "cell_type": "code",
   "execution_count": 10,
   "id": "57ab1daa-edbd-4b66-bc69-874a19af5cf1",
   "metadata": {},
   "outputs": [
    {
     "data": {
      "image/png": "[encoded data removed]",
      "text/plain": [
       "<Figure size 432x288 with 1 Axes>"
      ]
     },
     "metadata": {
      "needs_background": "light"
     },
     "output_type": "display_data"
    }
   ],
   "source": [
    "title_font = {\n",
    "    \"fontsize\": 16,\n",
    "    \"fontweight\": \"bold\",\n",
    "    \"color\": \"#808080\",\n",
    "    \"family\": \"serif\",\n",
    "}\n",
    "\n",
    "label_font = {\n",
    "    \"fontsize\": 14,\n",
    "    \"family\": \"serif\",\n",
    "}\n",
    "\n",
    "plt.plot(x, y1)\n",
    "\n",
    "plt.title(\"O(log n)\", fontdict=title_font)\n",
    "plt.xlabel(\"x\", fontdict=label_font)\n",
    "plt.ylabel(\"f(log x)\", fontdict=label_font)\n",
    "plt.legend(labels=[\"O(log n)\"])\n",
    "\n",
    "plt.show()"
   ]
  },
  {
   "cell_type": "code",
   "execution_count": 11,
   "id": "16fd2e36-88ea-48af-972a-a3dcc0e44ef2",
   "metadata": {},
   "outputs": [
    {
     "data": {
      "text/plain": [
       "Text(0.5, 1.0, 'O(n**2)')"
      ]
     },
     "execution_count": 11,
     "metadata": {},
     "output_type": "execute_result"
    },
    {
     "data": {
      "image/png": "[encoded data removed]",
      "text/plain": [
       "<Figure size 576x432 with 4 Axes>"
      ]
     },
     "metadata": {
      "needs_background": "light"
     },
     "output_type": "display_data"
    }
   ],
   "source": [
    "fig, ax = plt.subplots(nrows=2, ncols=2)\n",
    "ax1, ax2, ax3, ax4 = ax.flatten()\n",
    "\n",
    "fig.set_size_inches(8, 6)\n",
    "fig.subplots_adjust(wspace=0.3, hspace=0.3)\n",
    "\n",
    "ax1.plot(x, y)\n",
    "ax1.set_title(\"O(n)\")\n",
    "\n",
    "ax2.plot(x, y1)\n",
    "ax2.set_title(\"O(log n)\")\n",
    "\n",
    "ax3.plot(x, y2)\n",
    "ax3.set_title(\"O(n * log n)\")\n",
    "\n",
    "ax4.plot(x, y3)\n",
    "ax4.set_title(\"O(n**2)\")"
   ]
  },
  {
   "cell_type": "code",
   "execution_count": 12,
   "id": "740b856b-c527-4bb5-9899-631fa069962b",
   "metadata": {},
   "outputs": [],
   "source": [
    "def fact(i):\n",
    "    if i == 1:\n",
    "        return i\n",
    "    else:\n",
    "        return i * fact(i - 1)"
   ]
  },
  {
   "cell_type": "code",
   "execution_count": 13,
   "id": "19b25c7f-9e6e-4ea8-92ec-58666c5512ef",
   "metadata": {},
   "outputs": [],
   "source": [
    "def fact_list(a):\n",
    "    res = []\n",
    "    for i in a:\n",
    "        f = fact(i)\n",
    "        res.append(f)\n",
    "    return res"
   ]
  },
  {
   "cell_type": "code",
   "execution_count": 21,
   "id": "1470a249-f0b7-438a-9af7-3073a3b40949",
   "metadata": {},
   "outputs": [
    {
     "data": {
      "text/plain": [
       "[1, 2, 6, 24, 120, 720, 5040, 40320]"
      ]
     },
     "execution_count": 21,
     "metadata": {},
     "output_type": "execute_result"
    }
   ],
   "source": [
    "x4 = [1, 2, 3, 4, 5, 6, 7]\n",
    "y4 = fact_list(x4)\n",
    "y4"
   ]
  },
  {
   "cell_type": "code",
   "execution_count": 28,
   "id": "e7c8ddf4-f3d9-4081-b390-f6b4db1a8c67",
   "metadata": {},
   "outputs": [
    {
     "data": {
      "image/png": "[encoded data removed]",
      "text/plain": [
       "<Figure size 432x576 with 1 Axes>"
      ]
     },
     "metadata": {
      "needs_background": "light"
     },
     "output_type": "display_data"
    }
   ],
   "source": [
    "plt.figure(figsize=(6, 8))\n",
    "\n",
    "plt.plot(x4, y4)\n",
    "\n",
    "plt.xlabel('O(n!)', fontsize=14)\n",
    "plt.title('Задача о коммивояжере', fontsize=14)\n",
    "\n",
    "plt.axis([0, 100, 0, 1000])\n",
    "\n",
    "plt.show()"
   ]
  },
  {
   "cell_type": "markdown",
   "id": "47a84f0a-dbfd-493e-adc5-55f9d5b764e3",
   "metadata": {},
   "source": [
    "Оснвные выводы:\n",
    "\n",
    "    * Скорость алгоритмов измеряется не в секундах, а в темпах роста количества операций;\n",
    "    * По сути формула описывает, насколько быстро возрастает время выполнения алгоритма с увеличением размера входных данных.\n",
    "    * Время выполнения алгоритмов выражается как \"О-большое\".\n",
    "    * Время выполнения O(log n) быстрее O(n), а с увеличением размера списка, в котором ищется значение, оно становится намного быстрее."
   ]
  },
  {
   "cell_type": "markdown",
   "id": "7a677796-ea89-46ca-aaf7-28901e1ac731",
   "metadata": {},
   "source": [
    "## Задача о коммивояжере "
   ]
  },
  {
   "cell_type": "markdown",
   "id": "9400807f-e064-4beb-a0b8-478d59387e41",
   "metadata": {},
   "source": [
    "Задача: Коммивояжер должен побывать в (5) городах. Это нужно сделать, проехав минимальное общее расстояние."
   ]
  },
  {
   "cell_type": "markdown",
   "id": "d5a04a3f-3e58-48a0-a288-560bc4ee04c2",
   "metadata": {},
   "source": [
    "Одно из мозможных решений - перебрать все озможные комбинации порядка объезда городов, проссумировать рассмтояния, после чего выбрать кратчайший путь."
   ]
  },
  {
   "cell_type": "markdown",
   "id": "aadb3039-3506-49e1-bd3d-9c4afa0d8dea",
   "metadata": {},
   "source": [
    "Для 5 городов можно создать 120 перестановок, поэтому решение задачи для 5 городов потребует 120 операций. Для 6 городов количество операций увеличивается до 720. А для 7 уже 5040 операций!!!"
   ]
  },
  {
   "cell_type": "code",
   "execution_count": null,
   "id": "05d62e48-5a90-4bec-8c5b-cb1783169c4a",
   "metadata": {},
   "outputs": [],
   "source": [
    "comm = pd.DataFrame({\n",
    "    \"Города\": ['6', '7', '8', '...', '15', '...', '30'],\n",
    "    \"Операции\": ['720', '5040', '40320', '...', '1 307 671 368 000', '...', '2 652 528 598 121 910 586 363 084 800 000']\n",
    "})\n",
    "\n",
    "comm"
   ]
  },
  {
   "cell_type": "markdown",
   "id": "ef50bf57-a75c-4bfa-a666-de1611298022",
   "metadata": {},
   "source": [
    "В общем случае для вычисления результата при n элементах потребуется n! (n факториал) операций. Время выполнения составит O(n!)"
   ]
  },
  {
   "cell_type": "markdown",
   "id": "91d3039a-8d14-4d27-aa3a-f4abd7ef8106",
   "metadata": {},
   "source": [
    "## Шпаргалка:\n",
    "\n",
    "    * Бинарный поиск работает намного быстрее простого.\n",
    "    * Время выполнения O(log n) быстрее O(n), а с увеличением размера списка, в котором ищется значение, оно становится намного быстрее.\n",
    "    * Скорость алгоритмов не измеряется в секундах.\n",
    "    * Время выполнения алгоритма описывается ростом количества операций.\n",
    "    * Время выполнения алгоритмов выражается как \"О-большое2. "
   ]
  },
  {
   "cell_type": "code",
   "execution_count": null,
   "id": "b4c56872-591e-4f35-b9eb-49336c95e8c9",
   "metadata": {},
   "outputs": [],
   "source": []
  }
 ],
 "metadata": {
  "kernelspec": {
   "display_name": "Python 3",
   "language": "python",
   "name": "python3"
  },
  "language_info": {
   "codemirror_mode": {
    "name": "ipython",
    "version": 3
   },
   "file_extension": ".py",
   "mimetype": "text/x-python",
   "name": "python",
   "nbconvert_exporter": "python",
   "pygments_lexer": "ipython3",
   "version": "3.8.10"
  }
 },
 "nbformat": 4,
 "nbformat_minor": 5
}
