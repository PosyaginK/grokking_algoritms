{
 "cells": [
  {
   "cell_type": "markdown",
   "id": "285ea94b-898e-4ad1-a833-5c7bdfe63740",
   "metadata": {},
   "source": [
    "# Глава 5. Хэш-таблицы "
   ]
  },
  {
   "cell_type": "code",
   "execution_count": 27,
   "id": "02110223-3122-4973-8782-28a21115b835",
   "metadata": {
    "tags": []
   },
   "outputs": [],
   "source": [
    "import numpy as np\n",
    "import pandas as pd\n",
    "\n",
    "import matplotlib.pyplot as plt"
   ]
  },
  {
   "cell_type": "markdown",
   "id": "c610d55f-a2f9-4cf7-a960-84b889a291ac",
   "metadata": {},
   "source": [
    "## Хэш-функции "
   ]
  },
  {
   "cell_type": "markdown",
   "id": "6d45d45e-0363-4ef5-99ed-e0b483692531",
   "metadata": {},
   "source": [
    "**Хэш-функция** - это функция, которая принимает строку и возвращает число.\n",
    "<img src='./img/hash_func.png' width=700px>\n"
   ]
  },
  {
   "cell_type": "markdown",
   "id": "27ae7896-5ef9-4691-b8ef-8cbe5fa050fa",
   "metadata": {},
   "source": [
    "Хэш-функция должна соответствовать некоторым требованиям:\n",
    "\n",
    " * Она должна быть последовательной.\n",
    " * Разным словам должны соответствовать разные числа."
   ]
  },
  {
   "cell_type": "markdown",
   "id": "f9a3e68a-f358-44b1-92a9-28857a21778a",
   "metadata": {},
   "source": [
    "Начнём с пустого массива:"
   ]
  },
  {
   "cell_type": "code",
   "execution_count": 2,
   "id": "dcd182c2-eef7-4e26-b611-d84d300bf14b",
   "metadata": {},
   "outputs": [
    {
     "data": {
      "text/plain": [
       "0    -\n",
       "1    -\n",
       "2    -\n",
       "3    -\n",
       "4    -\n",
       "Name: Массив, dtype: object"
      ]
     },
     "execution_count": 2,
     "metadata": {},
     "output_type": "execute_result"
    }
   ],
   "source": [
    "m = pd.DataFrame({\n",
    "    'Массив': ['-', '-', '-', '-', '-']\n",
    "})\n",
    "price = m['Массив']\n",
    "price"
   ]
  },
  {
   "cell_type": "markdown",
   "id": "8ff7d580-d6d6-4270-a2b5-105d502196d3",
   "metadata": {},
   "source": [
    "Передадим хэш-функции строу \"апельсины\":\n",
    "<img src='./img/orange.png' wight=100px>"
   ]
  },
  {
   "cell_type": "markdown",
   "id": "a3cf4e2f-67aa-4348-9c13-90bc3ca83c8a",
   "metadata": {},
   "source": [
    "Хэш-функция выдает значение \"3\". \n",
    "\n",
    "Сохраняем цену апельсинов в элементе массива с индексом 3."
   ]
  },
  {
   "cell_type": "code",
   "execution_count": 3,
   "id": "99627fa2-c4c9-423e-9d2c-3426af9958f8",
   "metadata": {},
   "outputs": [],
   "source": [
    "price[3] = 0.67"
   ]
  },
  {
   "cell_type": "code",
   "execution_count": 4,
   "id": "a3d18abd-511f-4e15-bd98-ef6d62b49813",
   "metadata": {},
   "outputs": [
    {
     "data": {
      "text/plain": [
       "0       -\n",
       "1       -\n",
       "2       -\n",
       "3    0.67\n",
       "4       -\n",
       "Name: Массив, dtype: object"
      ]
     },
     "execution_count": 4,
     "metadata": {},
     "output_type": "execute_result"
    }
   ],
   "source": [
    "price"
   ]
  },
  {
   "cell_type": "markdown",
   "id": "f8e0b3a5-f932-4227-85cc-b9d5c495ab67",
   "metadata": {},
   "source": [
    "Добавим молоко:"
   ]
  },
  {
   "cell_type": "code",
   "execution_count": 5,
   "id": "4f1842c4-77d0-4e6f-9375-d08e18eab368",
   "metadata": {},
   "outputs": [
    {
     "data": {
      "text/plain": [
       "0    1.49\n",
       "1       -\n",
       "2       -\n",
       "3    0.67\n",
       "4       -\n",
       "Name: Массив, dtype: object"
      ]
     },
     "execution_count": 5,
     "metadata": {},
     "output_type": "execute_result"
    }
   ],
   "source": [
    "price[0] = 1.49\n",
    "price"
   ]
  },
  {
   "cell_type": "markdown",
   "id": "f694b7c4-0e0b-419e-8813-654d94d1f71a",
   "metadata": {},
   "source": [
    "Продолжаем действовать так, пока массив не заполнится полностью!"
   ]
  },
  {
   "cell_type": "code",
   "execution_count": 6,
   "id": "6db55c4c-2fe9-44b8-a81c-9a827fc99e5d",
   "metadata": {},
   "outputs": [
    {
     "data": {
      "text/plain": [
       "0    1.49\n",
       "1    0.79\n",
       "2    2.49\n",
       "3    0.67\n",
       "4    1.49\n",
       "Name: Массив, dtype: object"
      ]
     },
     "execution_count": 6,
     "metadata": {},
     "output_type": "execute_result"
    }
   ],
   "source": [
    "price[1] = 0.79\n",
    "price[2] = 2.49\n",
    "price[4] = 1.49\n",
    "price"
   ]
  },
  {
   "cell_type": "markdown",
   "id": "bf8367ed-d720-42fd-80d5-976457270787",
   "metadata": {},
   "source": [
    "Теперь представим, что нам нужно узнать сколько стоит авокадо!\n",
    "\n",
    "Искать в массиве ничего не нужно, просто передаем строку \"авокадо\" в хэш-функцию.\n",
    "\n",
    "<img src='./img/avokado.png' wight=100px>"
   ]
  },
  {
   "cell_type": "markdown",
   "id": "86473741-6342-4db3-949c-63acf78fb90e",
   "metadata": {},
   "source": [
    "Результат показывает, что значение хранится в элементе с индексом 4."
   ]
  },
  {
   "cell_type": "code",
   "execution_count": 7,
   "id": "2b58618b-ccda-4a5a-845d-a2dc53e6f961",
   "metadata": {},
   "outputs": [
    {
     "data": {
      "text/plain": [
       "1.49"
      ]
     },
     "execution_count": 7,
     "metadata": {},
     "output_type": "execute_result"
    }
   ],
   "source": [
    "price[4]"
   ]
  },
  {
   "cell_type": "markdown",
   "id": "9eaa0a37-b46e-485e-9671-50351f3feab9",
   "metadata": {},
   "source": [
    " * Хэш-функция неизменно связывает название с одним индексом.\n",
    " * Хэш-функция связывает разные строки с разными индексами.\n",
    " * Хэш-функция знает размер массива и возвращает только действительные индексы."
   ]
  },
  {
   "cell_type": "markdown",
   "id": "6201d466-2d56-4a15-9f3d-f80ee03e738d",
   "metadata": {},
   "source": [
    "Простю хэш-таблицу на  Python  можно создать используюя слоарь (dict):"
   ]
  },
  {
   "cell_type": "code",
   "execution_count": 8,
   "id": "6bfa301f-d030-4ac6-8902-b1bc5927be24",
   "metadata": {},
   "outputs": [],
   "source": [
    "book = dict()"
   ]
  },
  {
   "cell_type": "code",
   "execution_count": 9,
   "id": "b8bb486d-cc59-4f2c-9696-3b1536c8f987",
   "metadata": {},
   "outputs": [
    {
     "name": "stdout",
     "output_type": "stream",
     "text": [
      "{'apple': 0.67, 'milk': 1.49, 'avocado': 1.49}\n"
     ]
    }
   ],
   "source": [
    "book['apple'] = 0.67 # <-- яблоки стоят 67 центов\n",
    "book['milk'] = 1.49 # <-- молоко стоит 67 центов\n",
    "book['avocado'] = 1.49 # <-- авокадо стоят 67 центов\n",
    "\n",
    "print(book)"
   ]
  },
  {
   "cell_type": "markdown",
   "id": "7010c042-ea4a-4184-8cb8-f1fc883f6b7a",
   "metadata": {},
   "source": [
    "Запросим цену авокадо:"
   ]
  },
  {
   "cell_type": "code",
   "execution_count": 10,
   "id": "b00de3ae-009d-4250-aa20-8ef0efc66be2",
   "metadata": {},
   "outputs": [
    {
     "name": "stdout",
     "output_type": "stream",
     "text": [
      "1.49\n"
     ]
    }
   ],
   "source": [
    "print(book['avocado'])"
   ]
  },
  {
   "cell_type": "markdown",
   "id": "aa420b74-dd9f-455c-b030-29742ea17b53",
   "metadata": {},
   "source": [
    "## Примеры использования "
   ]
  },
  {
   "cell_type": "markdown",
   "id": "261b9e88-6042-411a-a1a3-8ae711613c94",
   "metadata": {},
   "source": [
    "### Использование хэш-таблиц для поиска"
   ]
  },
  {
   "cell_type": "markdown",
   "id": "63222d5b-86c0-4ebd-9216-8490deb22469",
   "metadata": {},
   "source": [
    "#### Телефонная книга "
   ]
  },
  {
   "cell_type": "markdown",
   "id": "7c8884fc-52a8-4215-9bb0-c8e394f69bf4",
   "metadata": {},
   "source": [
    "Пример: телефонная книга в телефоне. Она связыает имя человека с его номером.\n",
    "\n",
    "Телефонная книга должна поддерживать следующие функции:\n",
    "\n",
    "    * добавление имени человека и номера телефона, связанного с эти именем;\n",
    "    * получение номера телефона, связанного с введенным именем;"
   ]
  },
  {
   "cell_type": "markdown",
   "id": "bce68528-8e03-41c9-ade2-6087fa98a91c",
   "metadata": {},
   "source": [
    "Посмтроить телефонную книгу не сложно. Начнем с создания новой хэш-таблицы."
   ]
  },
  {
   "cell_type": "code",
   "execution_count": 11,
   "id": "4f67b835-ec54-48a9-99fb-be62b129abc5",
   "metadata": {},
   "outputs": [],
   "source": [
    "phone_book = {}"
   ]
  },
  {
   "cell_type": "markdown",
   "id": "ba0495cb-e178-41b7-a736-2545ba72179e",
   "metadata": {},
   "source": [
    "Добавим в телефонную книгу несколько номеров:"
   ]
  },
  {
   "cell_type": "code",
   "execution_count": 12,
   "id": "00526a55-6b93-41e0-997a-cd4b44a417e3",
   "metadata": {},
   "outputs": [],
   "source": [
    "phone_book[\"jenny\"] = 8675309\n",
    "phone_book[\"emergency\"] = 911"
   ]
  },
  {
   "cell_type": "markdown",
   "id": "85835b78-1fd6-49f7-bc39-84ee774147c2",
   "metadata": {},
   "source": [
    "Ну вот и все. Теперь если мы хотим найти номер телефона Дженни - просто передаем ключ хэшу:"
   ]
  },
  {
   "cell_type": "code",
   "execution_count": 13,
   "id": "a85bb1d2-8d93-4ce2-8a04-f1baf968bcae",
   "metadata": {},
   "outputs": [
    {
     "name": "stdout",
     "output_type": "stream",
     "text": [
      "8675309\n"
     ]
    }
   ],
   "source": [
    "print(phone_book['jenny'])"
   ]
  },
  {
   "cell_type": "markdown",
   "id": "613b0884-dc4d-4a99-b625-cee61335e063",
   "metadata": {},
   "source": [
    "#### Поиск сайта "
   ]
  },
  {
   "cell_type": "markdown",
   "id": "6c90c0c7-10c3-4f14-a1c9-65f0a4483070",
   "metadata": {},
   "source": [
    "Представьте, что вам нужно перейти на веб-сайт, (например, http://adit.io). Ваш компьютер должен преобразовать символическое имя adit.io в IP-адрес."
   ]
  },
  {
   "cell_type": "markdown",
   "id": "457c8412-1def-434d-91d3-0855c966e839",
   "metadata": {},
   "source": [
    "ADIT.IO --> 173.255.248.55"
   ]
  },
  {
   "cell_type": "markdown",
   "id": "90a33706-f80d-4771-bfb5-2a73b2bf4899",
   "metadata": {},
   "source": [
    "Для любого посещаемого веб-сайта его имя превращается в IP:\n",
    "\n",
    "    google.com --> 74.125.239.133\n",
    "    facebook.com --> 173.252.120.6\n",
    "    scribd.com --> 23.235.47.175"
   ]
  },
  {
   "cell_type": "markdown",
   "id": "e56a86f4-61a4-4d50-b084-48c21d2e31e2",
   "metadata": {},
   "source": [
    "Связать символическое имя с IP-адресом - идеальная задача для хэш-таблиц! Этот процесси называется *преобразованием* ***DNS***.\n",
    "\n",
    "Хэш-таблицы - всего лишь один из способов реализации этой функциональности."
   ]
  },
  {
   "cell_type": "markdown",
   "id": "59cb6c8a-197f-43e1-a636-9c14f249cfc9",
   "metadata": {},
   "source": [
    "#### Исключение дубликатов "
   ]
  },
  {
   "cell_type": "markdown",
   "id": "d493712c-146b-40ea-bbac-b36d0a67f1f5",
   "metadata": {},
   "source": [
    "Предположим, вы руководите избирательным участком. Естественно, каждый избиратель может проголосовать всего один раз. Как проверить, что он не голосовал ранее? Когда человек приходит голосовать, вы узнаете его полное имя, а затем проверяете по списку уже проголосовавших избирателей.\n",
    "\n",
    "Если имя входит в список - этот человек уже голосовал, гоните наглеца! В противном случае вы добавляете имя в список и разрешаете ему проголосовать.\n",
    "\n",
    "Но если желающих проголосовать будет слишком много - вам придется каждый раз проверять огромный список снова и снова.\n",
    "\n",
    "Эффективнее будет воспользоваться хэшем!"
   ]
  },
  {
   "cell_type": "markdown",
   "id": "91b34e05-1a87-4753-a8eb-8052812c7d5b",
   "metadata": {},
   "source": [
    "Создадим хэш для хранения информации об уже проголосовавших людях:"
   ]
  },
  {
   "cell_type": "code",
   "execution_count": 14,
   "id": "303997e4-ee74-41ac-acba-fb9c30b761eb",
   "metadata": {},
   "outputs": [],
   "source": [
    "voted = {}"
   ]
  },
  {
   "cell_type": "markdown",
   "id": "753b9b1e-29e5-4f34-ab68-b13a1239c320",
   "metadata": {},
   "source": [
    "Когда кто-то приходит голосовать, проверим, присутствует ли его имя в хэше:"
   ]
  },
  {
   "cell_type": "code",
   "execution_count": 15,
   "id": "53deaccf-9d93-4b33-8bdc-f6f536d9104f",
   "metadata": {},
   "outputs": [
    {
     "name": "stdout",
     "output_type": "stream",
     "text": [
      "None\n"
     ]
    }
   ],
   "source": [
    "value = voted.get('Tom')\n",
    "print(value)"
   ]
  },
  {
   "cell_type": "markdown",
   "id": "b8a19890-f4c8-4d2b-bf93-223845ed8f43",
   "metadata": {},
   "source": [
    "Функция .get возвращает значение, если ключ 'Tom' присутствует в хэш-таблице. В противном случае возвращается None."
   ]
  },
  {
   "cell_type": "code",
   "execution_count": 16,
   "id": "e84740b8-129e-450f-87ba-e80b69adfd75",
   "metadata": {},
   "outputs": [],
   "source": [
    "voted = {} # Создаем новую хэш-таблицу\n",
    "def check_voter(name): \n",
    "    if voted.get(name): # Если имя содержится в списке, то\n",
    "        print('Kick them out!') # Прогоняем человека\n",
    "    else: \n",
    "        voted[name] = True # Иначе - записываем его имя в список \n",
    "        print('let them vote!') # И пускаем проголосовать!"
   ]
  },
  {
   "cell_type": "code",
   "execution_count": 17,
   "id": "2aa954e7-3c0a-48f9-8c22-6a4081cdcfe6",
   "metadata": {},
   "outputs": [
    {
     "name": "stdout",
     "output_type": "stream",
     "text": [
      "let them vote!\n"
     ]
    }
   ],
   "source": [
    "check_voter('Tom')"
   ]
  },
  {
   "cell_type": "code",
   "execution_count": 18,
   "id": "aa8d1fc3-a3de-4a87-b395-e56682bb910c",
   "metadata": {},
   "outputs": [
    {
     "name": "stdout",
     "output_type": "stream",
     "text": [
      "let them vote!\n"
     ]
    }
   ],
   "source": [
    "check_voter('Mike')"
   ]
  },
  {
   "cell_type": "code",
   "execution_count": 19,
   "id": "887464ad-8bc7-4367-93a9-94bf217aa8d1",
   "metadata": {},
   "outputs": [
    {
     "name": "stdout",
     "output_type": "stream",
     "text": [
      "Kick them out!\n"
     ]
    }
   ],
   "source": [
    "check_voter('Mike')"
   ]
  },
  {
   "cell_type": "markdown",
   "id": "d2ce10ea-f66c-482b-b7fb-6876134b9c8e",
   "metadata": {},
   "source": [
    "### Использование хэш-таблиц как кэша "
   ]
  },
  {
   "cell_type": "markdown",
   "id": "dc8ff15a-387f-468a-beeb-a51f701551ba",
   "metadata": {},
   "source": [
    "**Кэширование** - это запоминание компьютером данных для быстрого воспроизведения."
   ]
  },
  {
   "cell_type": "markdown",
   "id": "490f781b-2a4e-41a5-83f7-ec0ad70f670c",
   "metadata": {},
   "source": [
    "Преимущества *кэширования*:\n",
    "\n",
    "    * вы получаете данные намного быстрее. ответ на запрос выдается мгновенно.\n",
    "    * серверу приходится выполнять меньше работы."
   ]
  },
  {
   "cell_type": "markdown",
   "id": "26e22c76-bf02-41f4-af0d-286a02349f38",
   "metadata": {},
   "source": [
    "*Кэширование* - стандартный способ ускорения работы. Все крупные веб-сайты применяют кэширование. А кэшируемые данные хранятся в **хэше!**"
   ]
  },
  {
   "cell_type": "markdown",
   "id": "d9717a2f-7d25-4e0e-a3da-3b0f56eabf5d",
   "metadata": {},
   "source": [
    "Для кэширования веб-страниц необходимо создать связь URL-адреса страницы и данных страницы.\n",
    "\n",
    "    facebook.com/about -->> данные страницы с информацией о facebook\n",
    "    facebook.com -->> данные домашней страницы"
   ]
  },
  {
   "cell_type": "markdown",
   "id": "5fa0e2e3-656c-4118-a199-a2e223b1328e",
   "metadata": {},
   "source": [
    "Когда вы посещаете какую-либо веб-страницу, сайт сначала проверяет, хранится ли страница в хэше.\n",
    "\n",
    "В коде это выглядит так:"
   ]
  },
  {
   "cell_type": "code",
   "execution_count": 20,
   "id": "21670896-c68e-4d72-a0b8-f72644bca3f4",
   "metadata": {},
   "outputs": [],
   "source": [
    "cache = {}\n",
    "\n",
    "def get_page(url):\n",
    "    if cache.get(url):\n",
    "        return cache[url] # <<--- возвращаются кэшированные данные\n",
    "    else:\n",
    "        data = get_data_from_server(url)\n",
    "        cache[url] = data # <<--- данные сначала сохраняются к кэше\n",
    "        return data"
   ]
  },
  {
   "cell_type": "markdown",
   "id": "78b82ae8-434d-4753-91ce-2c50a93a03ae",
   "metadata": {},
   "source": [
    "### Шпаргалка\n",
    "Хэши хорошо подходят длярешения следующих задач:\n",
    "\n",
    "    * моделирование отношений между объектами;\n",
    "    * устранение жубликатов;\n",
    "    * кэширование/запоминание данных вместо выполнения работы на сервере."
   ]
  },
  {
   "cell_type": "markdown",
   "id": "aabd885f-7f33-4a5a-8a9f-5015ed39ed39",
   "metadata": {},
   "source": [
    "## Коллизии "
   ]
  },
  {
   "cell_type": "markdown",
   "id": "064ca4ed-bc48-4c4a-bfc2-a50f608f1d8c",
   "metadata": {},
   "source": [
    "**Коллизия** - это ситуация, при которой двум ключам назначается один элемент массива."
   ]
  },
  {
   "cell_type": "markdown",
   "id": "315f9a3a-cd43-4751-9058-52a8007c2ff7",
   "metadata": {},
   "source": [
    "Возникает пролема - если сохранить в этом элементе значение второго ключа, то она запишется на место первого, а первый просто сотрется."
   ]
  },
  {
   "cell_type": "code",
   "execution_count": 22,
   "id": "127550be-8559-4840-8154-dd69431702d1",
   "metadata": {},
   "outputs": [
    {
     "data": {
      "text/plain": [
       "{'el': 'key_1'}"
      ]
     },
     "execution_count": 22,
     "metadata": {},
     "output_type": "execute_result"
    }
   ],
   "source": [
    "d = {}\n",
    "d['el'] = 'key_1'\n",
    "d"
   ]
  },
  {
   "cell_type": "code",
   "execution_count": 24,
   "id": "27e7528f-d586-43dd-890a-ef69f8ea0087",
   "metadata": {},
   "outputs": [
    {
     "data": {
      "text/plain": [
       "{'el': 'key_2'}"
      ]
     },
     "execution_count": 24,
     "metadata": {},
     "output_type": "execute_result"
    }
   ],
   "source": [
    "d['el'] = 'key_2' \n",
    "d # <-- 'key_1' просто стерся"
   ]
  },
  {
   "cell_type": "markdown",
   "id": "e5229478-c16a-4c15-94eb-6847f5ee8211",
   "metadata": {},
   "source": [
    "Существует много разных стратегий обработки коллизий. \n",
    "\n",
    "Простейшая из них выглядит так: если несколько ключей отображаются на один элемент, в этом элементе создается связанный список."
   ]
  },
  {
   "cell_type": "code",
   "execution_count": 25,
   "id": "54ecb8ed-c3d5-4e26-bc3b-b795ccd3ddd2",
   "metadata": {},
   "outputs": [
    {
     "data": {
      "text/plain": [
       "{'el': ['key_1', 'key_2']}"
      ]
     },
     "execution_count": 25,
     "metadata": {},
     "output_type": "execute_result"
    }
   ],
   "source": [
    "d['el'] = ['key_1', 'key_2']\n",
    "d"
   ]
  },
  {
   "cell_type": "markdown",
   "id": "6735142c-0820-479a-8299-7a5d2dd04453",
   "metadata": {},
   "source": [
    "Но если ключей на один элемент будет слишком много, работа с данными сильно замедлится.\n",
    "\n",
    "    * Хэш-функция должна распеделять клюи равномерно по всему хэшу.\n",
    "    * В хорошей хэш-функции не бывает длинных связанных списков."
   ]
  },
  {
   "cell_type": "markdown",
   "id": "d66dc776-50c5-48d6-824a-2b960804408b",
   "metadata": {},
   "source": [
    "### Быстродействие "
   ]
  },
  {
   "cell_type": "code",
   "execution_count": 26,
   "id": "7717340d-e3a0-4839-bffa-ba485f6da538",
   "metadata": {},
   "outputs": [
    {
     "data": {
      "text/html": [
       "<div>\n",
       "<style scoped>\n",
       "    .dataframe tbody tr th:only-of-type {\n",
       "        vertical-align: middle;\n",
       "    }\n",
       "\n",
       "    .dataframe tbody tr th {\n",
       "        vertical-align: top;\n",
       "    }\n",
       "\n",
       "    .dataframe thead th {\n",
       "        text-align: right;\n",
       "    }\n",
       "</style>\n",
       "<table border=\"1\" class=\"dataframe\">\n",
       "  <thead>\n",
       "    <tr style=\"text-align: right;\">\n",
       "      <th></th>\n",
       "      <th>Средний случай</th>\n",
       "      <th>Худший случай</th>\n",
       "    </tr>\n",
       "  </thead>\n",
       "  <tbody>\n",
       "    <tr>\n",
       "      <th>Поиск</th>\n",
       "      <td>O(1)</td>\n",
       "      <td>O(n)</td>\n",
       "    </tr>\n",
       "    <tr>\n",
       "      <th>Вставка</th>\n",
       "      <td>O(1)</td>\n",
       "      <td>O(n)</td>\n",
       "    </tr>\n",
       "    <tr>\n",
       "      <th>Удаление</th>\n",
       "      <td>O(1)</td>\n",
       "      <td>O(n)</td>\n",
       "    </tr>\n",
       "  </tbody>\n",
       "</table>\n",
       "</div>"
      ],
      "text/plain": [
       "         Средний случай Худший случай\n",
       "Поиск              O(1)          O(n)\n",
       "Вставка            O(1)          O(n)\n",
       "Удаление           O(1)          O(n)"
      ]
     },
     "execution_count": 26,
     "metadata": {},
     "output_type": "execute_result"
    }
   ],
   "source": [
    "speed = pd.DataFrame({\n",
    "    'Средний случай': ['O(1)', 'O(1)', 'O(1)'],\n",
    "    'Худший случай': ['O(n)', 'O(n)', 'O(n)']\n",
    "}, index=['Поиск', 'Вставка', 'Удаление'])\n",
    "\n",
    "speed"
   ]
  },
  {
   "cell_type": "markdown",
   "id": "acae4441-deb0-4f13-99cf-39f08e437bf5",
   "metadata": {},
   "source": [
    "В среднем хэш-таблицы выполняют любые операции за время O(1). \n",
    "\n",
    "Время О(1) называется *постоянным*. Это не означает, что операции выполняются мгновенно; просто время остается постоянным независимо от размера хэш-таблицы."
   ]
  },
  {
   "cell_type": "code",
   "execution_count": 33,
   "id": "9c79e7d8-4751-4be5-af16-df719d54ba97",
   "metadata": {
    "jupyter": {
     "source_hidden": true
    },
    "tags": []
   },
   "outputs": [],
   "source": [
    "title_font = {\n",
    "    \"fontsize\": 16,\n",
    "    \"fontweight\": \"bold\",\n",
    "    \"color\": \"#808080\",\n",
    "    \"family\": \"serif\",\n",
    "}\n",
    "\n",
    "label_font = {\n",
    "    \"fontsize\": 14,\n",
    "    \"family\": \"serif\",\n",
    "}"
   ]
  },
  {
   "cell_type": "code",
   "execution_count": 34,
   "id": "5648b307-a6c0-47b6-9563-b12bbcbee846",
   "metadata": {},
   "outputs": [],
   "source": [
    "x = np.arange(100)\n",
    "y = [1]*100"
   ]
  },
  {
   "cell_type": "code",
   "execution_count": 41,
   "id": "63008e07-716d-4fab-995f-fda2a7faf5fc",
   "metadata": {},
   "outputs": [
    {
     "data": {
      "image/png": "[encoded data removed]",
      "text/plain": [
       "<Figure size 432x432 with 1 Axes>"
      ]
     },
     "metadata": {
      "needs_background": "light"
     },
     "output_type": "display_data"
    }
   ],
   "source": [
    "plt.figure(figsize=(6, 6))\n",
    "plt.plot(x, y)\n",
    "\n",
    "plt.title(\"O(1)\\nПостоянное время хэш-таблицы\", fontdict=title_font)\n",
    "plt.xlabel(\"x\", fontdict=label_font)\n",
    "plt.ylabel(\"y = 1\", fontdict=label_font)\n",
    "plt.legend(labels=[\"O(1)\"])\n",
    "\n",
    "plt.axis([0, 100, 0, 10])\n",
    "\n",
    "plt.show()"
   ]
  },
  {
   "cell_type": "markdown",
   "id": "8af9689b-434a-4cfd-b8a3-96bb3f72559e",
   "metadata": {},
   "source": [
    "В среднем случае хэш-таблицы работают действительно быстро."
   ]
  },
  {
   "cell_type": "markdown",
   "id": "23798748-b0e1-4ee4-8671-5e75a244bde1",
   "metadata": {},
   "source": [
    "В худшем случае все операции с хэш-таблицей выполняются за время O(n) (линейное время), а это очень медленно. \n",
    "\n",
    "Сравним хэш-таблицы с массивами и списками."
   ]
  },
  {
   "cell_type": "code",
   "execution_count": 44,
   "id": "96fe7894-2c40-4a86-b316-db2c8ffce21f",
   "metadata": {},
   "outputs": [
    {
     "data": {
      "text/html": [
       "<div>\n",
       "<style scoped>\n",
       "    .dataframe tbody tr th:only-of-type {\n",
       "        vertical-align: middle;\n",
       "    }\n",
       "\n",
       "    .dataframe tbody tr th {\n",
       "        vertical-align: top;\n",
       "    }\n",
       "\n",
       "    .dataframe thead th {\n",
       "        text-align: right;\n",
       "    }\n",
       "</style>\n",
       "<table border=\"1\" class=\"dataframe\">\n",
       "  <thead>\n",
       "    <tr style=\"text-align: right;\">\n",
       "      <th></th>\n",
       "      <th>Хэш-таблицы (средний случай)</th>\n",
       "      <th>Хэш-таблицы (худший случай)</th>\n",
       "      <th>Массивы</th>\n",
       "      <th>Связанные списки</th>\n",
       "    </tr>\n",
       "  </thead>\n",
       "  <tbody>\n",
       "    <tr>\n",
       "      <th>Поиск</th>\n",
       "      <td>О(1)</td>\n",
       "      <td>О(n)</td>\n",
       "      <td>О(1)</td>\n",
       "      <td>О(n)</td>\n",
       "    </tr>\n",
       "    <tr>\n",
       "      <th>Вставка</th>\n",
       "      <td>О(1)</td>\n",
       "      <td>О(n)</td>\n",
       "      <td>О(n)</td>\n",
       "      <td>О(1)</td>\n",
       "    </tr>\n",
       "    <tr>\n",
       "      <th>Удаление</th>\n",
       "      <td>О(1)</td>\n",
       "      <td>О(n)</td>\n",
       "      <td>О(n)</td>\n",
       "      <td>О(1)</td>\n",
       "    </tr>\n",
       "  </tbody>\n",
       "</table>\n",
       "</div>"
      ],
      "text/plain": [
       "         Хэш-таблицы (средний случай) Хэш-таблицы (худший случай) Массивы  \\\n",
       "Поиск                            О(1)                        О(n)    О(1)   \n",
       "Вставка                          О(1)                        О(n)    О(n)   \n",
       "Удаление                         О(1)                        О(n)    О(n)   \n",
       "\n",
       "         Связанные списки  \n",
       "Поиск                О(n)  \n",
       "Вставка              О(1)  \n",
       "Удаление             О(1)  "
      ]
     },
     "execution_count": 44,
     "metadata": {},
     "output_type": "execute_result"
    }
   ],
   "source": [
    "speed = pd.DataFrame({\n",
    "    'Хэш-таблицы (средний случай)': ['О(1)', 'О(1)', 'О(1)'],\n",
    "    'Хэш-таблицы (худший случай)': ['О(n)', 'О(n)', 'О(n)'],\n",
    "    'Массивы': ['О(1)', 'О(n)', 'О(n)'],\n",
    "    'Связанные списки': ['О(n)', 'О(1)', 'О(1)']\n",
    "}, index=['Поиск', 'Вставка', 'Удаление'])\n",
    "speed"
   ]
  },
  {
   "cell_type": "markdown",
   "id": "2cebd1fd-a850-44bf-8b67-76c1271c8123",
   "metadata": {},
   "source": [
    "Взглянем на средний случай для хэш-таблиц.\n",
    "\n",
    "При поиске хэш-таблицы не уступают в скорости массивам. А при вставке и удалении они такие же быстрые, как и связанные списки. Получается, что они взяли лучшее от обеих структур!\n",
    "\n",
    "Но в худшем случае хэш-таблицы медленно выполняют все эти операции, поэтому худшего случая нужно избегать. Для этого следует избегать *коллизий*."
   ]
  },
  {
   "cell_type": "markdown",
   "id": "79a8f1d8-3f06-43e0-8430-1f8a50a274fb",
   "metadata": {},
   "source": [
    "Для предотвращения коллизий необходимы:\n",
    "\n",
    "    * низкий коэффициент заполнения;\n",
    "    * хорошая хэш-функция.    "
   ]
  },
  {
   "cell_type": "markdown",
   "id": "ec85cd19-f017-49df-a95f-3435e11fb132",
   "metadata": {},
   "source": [
    "## ШПАРГАЛКА "
   ]
  },
  {
   "cell_type": "markdown",
   "id": "b7f95474-72d3-40d7-ab33-c640ce703335",
   "metadata": {},
   "source": [
    "Вам почти никогда не придется реализовывать хэш-функцию самостоятельно. Язык программирования, который вы используете, должен предоставить необходимую реализацию. Выможете пользоваться хэш-таблицами Python, и при этом вам будет обеспечена производительность среднего случая: постоянное время.\n",
    "\n",
    "Хэш-таблицы чрезвычайно полезны, потому что они обеспечивают высокую скорость операций и позволяют по-разному моделировать данные. Возможно, вскоре выяснится, что вы постоянно используете их в своей работе.\n",
    "\n",
    "    * Хэш-таблица создаете объединением хэш-функции с массивом;\n",
    "    * Коллизии не желательны. Хэш-функция должна свести количество коллизий к минимуму;\n",
    "    * Хэш-таблицы обеспечивают очень быстрое выполнение поиска, вставки и удаления.\n",
    "    * Хэш-таблицы хорошо подходят для моделирования отношений между объектами;\n",
    "    * Как только коэффициент заполнения превышает 0,7, пора изменять размер хэш-таблицы;\n",
    "    * Хэш-таблицы используются для кэширования данных (например, на веб-серверах);\n",
    "    * Хэш-таблицы хорошо подходят для обнаружения дубликатов."
   ]
  },
  {
   "cell_type": "code",
   "execution_count": null,
   "id": "b70dd9db-c8b5-42d2-98c3-f16284f9511b",
   "metadata": {},
   "outputs": [],
   "source": []
  }
 ],
 "metadata": {
  "kernelspec": {
   "display_name": "Python 3",
   "language": "python",
   "name": "python3"
  },
  "language_info": {
   "codemirror_mode": {
    "name": "ipython",
    "version": 3
   },
   "file_extension": ".py",
   "mimetype": "text/x-python",
   "name": "python",
   "nbconvert_exporter": "python",
   "pygments_lexer": "ipython3",
   "version": "3.8.10"
  }
 },
 "nbformat": 4,
 "nbformat_minor": 5
}
