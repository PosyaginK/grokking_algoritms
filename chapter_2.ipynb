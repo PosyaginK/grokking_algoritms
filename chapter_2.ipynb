{
 "cells": [
  {
   "cell_type": "markdown",
   "id": "ca663b55-ad23-46bf-ab1a-304712f0958b",
   "metadata": {},
   "source": [
    "# Глава 2. Сортировка выбором "
   ]
  },
  {
   "cell_type": "markdown",
   "id": "4a55f80b-85c2-4844-972d-6752bfee323b",
   "metadata": {},
   "source": [
    "Информация в памяти может храниться в виде **массива** или **смежного списка**"
   ]
  },
  {
   "cell_type": "markdown",
   "id": "28301b95-52a5-4eef-ab2d-d83186198424",
   "metadata": {},
   "source": [
    "### Массивы "
   ]
  },
  {
   "cell_type": "markdown",
   "id": "047219e6-7439-4939-bc1c-ac3e3eff0fd1",
   "metadata": {},
   "source": [
    "Элементы в **массиве** хранятся упорядочено. У каждого элемента есть свой (известный) индекс. Поэтому навигация по **массиву** происходит быстрее, чем по смежному списку."
   ]
  },
  {
   "cell_type": "markdown",
   "id": "79b146be-b405-4d32-afd4-535761bdb12b",
   "metadata": {},
   "source": [
    "Индекс - это позиция элемента в массиве. В пайтоне, как и в большинстве языков программирования нумерация индексов начинается с 0. То есть первый элемент **массива** имеет индекс 0."
   ]
  },
  {
   "cell_type": "code",
   "execution_count": 1,
   "id": "27fc6e7c-bb84-42ec-a339-70e72f766d73",
   "metadata": {},
   "outputs": [],
   "source": [
    "import numpy as np\n",
    "import pandas as pd\n",
    "import matplotlib as mpt\n",
    "from matplotlib import pyplot as plt\n",
    "np.seterr(divide = 'ignore', invalid='ignore') \n",
    "%matplotlib inline"
   ]
  },
  {
   "cell_type": "markdown",
   "id": "7d2208bd-e697-4947-8692-546667dc5d49",
   "metadata": {},
   "source": [
    "Ниже приведены примеры времени выполнения основных операций с массивами и списками"
   ]
  },
  {
   "cell_type": "code",
   "execution_count": 5,
   "id": "b64f9bb5-1c13-4e7c-9a97-676160f8367c",
   "metadata": {},
   "outputs": [
    {
     "name": "stdout",
     "output_type": "stream",
     "text": [
      "         Массив Список\n",
      "Чтение     O(1)   O(n)\n",
      "Вставка:   O(n)   O(1)\n",
      "\n",
      "O(n) - линейное время\n",
      "O(1) - постоянное время\n"
     ]
    }
   ],
   "source": [
    "t = pd.DataFrame({\n",
    "    \"Массив:\": ['O(1)', 'O(n)'],\n",
    "    \"Список\": ['O(n)', 'O(1)']\n",
    "}, index=['Чтение', 'Вставка:'])\n",
    "\n",
    "print(f'{t}\\n\\nO(n) - линейное время\\nO(1) - постоянное время')"
   ]
  },
  {
   "cell_type": "markdown",
   "id": "9d0a65af-3a61-4a60-a0b4-142f5d09d706",
   "metadata": {},
   "source": [
    "### Упражнение "
   ]
  },
  {
   "cell_type": "markdown",
   "id": "789703a9-d5a3-4272-bce0-9922ada5ede5",
   "metadata": {},
   "source": [
    "Допустим, вы строите приложение для управления финансами.\n",
    "\n",
    "    1. Прожукты\n",
    "    2. Кино\n",
    "    3. Велосипедный клуб\n",
    "    \n",
    "Ежедневно вы записываете все свои траты. В конце месяца вы анализируете расходы и вычисляете, сколько денег было потрачено. При работе с данными выполняется множество операция вставки и относительноо немного операций чтения. Какую структуру использовать - массив или список?"
   ]
  },
  {
   "cell_type": "markdown",
   "id": "ec0a6e1d-20fc-4d54-a7c6-4beeea81a1f9",
   "metadata": {},
   "source": [
    "Лучше использовать список. Потому что, в списке вставка нового элемента происходит быстрее чем в массиве."
   ]
  },
  {
   "cell_type": "markdown",
   "id": "e131e77c-b960-4636-a11c-8f20ad7002d9",
   "metadata": {},
   "source": [
    "Удаление"
   ]
  },
  {
   "cell_type": "code",
   "execution_count": 6,
   "id": "af1e975c-5798-4d03-a110-ca875467e368",
   "metadata": {},
   "outputs": [
    {
     "data": {
      "text/html": [
       "<div>\n",
       "<style scoped>\n",
       "    .dataframe tbody tr th:only-of-type {\n",
       "        vertical-align: middle;\n",
       "    }\n",
       "\n",
       "    .dataframe tbody tr th {\n",
       "        vertical-align: top;\n",
       "    }\n",
       "\n",
       "    .dataframe thead th {\n",
       "        text-align: right;\n",
       "    }\n",
       "</style>\n",
       "<table border=\"1\" class=\"dataframe\">\n",
       "  <thead>\n",
       "    <tr style=\"text-align: right;\">\n",
       "      <th></th>\n",
       "      <th>Массив</th>\n",
       "      <th>Список</th>\n",
       "    </tr>\n",
       "  </thead>\n",
       "  <tbody>\n",
       "    <tr>\n",
       "      <th>Чтение:</th>\n",
       "      <td>O(1)</td>\n",
       "      <td>O(n)</td>\n",
       "    </tr>\n",
       "    <tr>\n",
       "      <th>Вставка:</th>\n",
       "      <td>O(n)</td>\n",
       "      <td>O(1)</td>\n",
       "    </tr>\n",
       "    <tr>\n",
       "      <th>Удаление:</th>\n",
       "      <td>O(n)</td>\n",
       "      <td>O(1)</td>\n",
       "    </tr>\n",
       "  </tbody>\n",
       "</table>\n",
       "</div>"
      ],
      "text/plain": [
       "          Массив Список\n",
       "Чтение:     O(1)   O(n)\n",
       "Вставка:    O(n)   O(1)\n",
       "Удаление:   O(n)   O(1)"
      ]
     },
     "execution_count": 6,
     "metadata": {},
     "output_type": "execute_result"
    }
   ],
   "source": [
    "t2 = pd.DataFrame({\n",
    "    \"Массив\": ['O(1)', 'O(n)', 'O(n)'],\n",
    "    \"Список\": ['O(n)', 'O(1)', 'O(1)']\n",
    "}, index=['Чтение:', 'Вставка:', 'Удаление:'])\n",
    "\n",
    "t2"
   ]
  },
  {
   "cell_type": "markdown",
   "id": "74a5052f-bfeb-44cf-8ac9-f5a8e5f099a0",
   "metadata": {},
   "source": [
    "Существует два вида доступа: *произвольный* и *последовательный*.\n",
    "При последовательном доступе элементы читаются по одному, начиная с первого.\n",
    "\n",
    "**Списки** поддерживают только *последовательны* доступ.\n",
    "\n",
    "**Массивы** поддерживают *произвольный* доступ. Поэтому они обладают более высокой скоростью чтения."
   ]
  },
  {
   "cell_type": "markdown",
   "id": "5675bd82-b0b8-4450-af06-5ef3dccbd5a4",
   "metadata": {},
   "source": [
    "### Упражнения"
   ]
  },
  {
   "cell_type": "markdown",
   "id": "cccd0bf2-c9c2-4b0a-a37a-f1b5f0747c95",
   "metadata": {},
   "source": [
    "1"
   ]
  },
  {
   "cell_type": "markdown",
   "id": "6b36ae55-708e-493e-8b6e-727617d76e53",
   "metadata": {},
   "source": [
    "Допустим, вы пишете приложение для приема заказов от посетителей ресторана. Приложение должно хранить список заказов. Официанты добавляют заказы в список, а повара читают заказы из списка и выполняют их. Заказы образуют очередь: официанты добавляют заказы в конец очереди, а повар берет первый заказ из очереди и начинает готовить."
   ]
  },
  {
   "cell_type": "markdown",
   "id": "9c16fdde-1c13-470f-af7e-87457313234c",
   "metadata": {},
   "source": [
    "Какую структуру данных вы бы использовали для реализации этой очереди: массив или связанный список? (Подсказка: связанные списки хорошо подходят для вставки/удаления, а массивы - для произвольного доступа к элементам. Что из этого понадобится в данном случае?)"
   ]
  },
  {
   "cell_type": "markdown",
   "id": "6b1c0c1f-657b-411e-99db-4ae409d3cdb8",
   "metadata": {},
   "source": [
    "В данном случае лучше использовать **список**. Потому что нет необходимости использовать *произвольный* доступ к элементам."
   ]
  },
  {
   "cell_type": "markdown",
   "id": "105553b5-2027-495b-a659-0cb61c64a523",
   "metadata": {},
   "source": [
    "2"
   ]
  },
  {
   "cell_type": "markdown",
   "id": "18134339-d991-4d84-842f-92fea66b1dca",
   "metadata": {},
   "source": [
    "Проведем мысленный эксперимент. Допустим, Facebook хранит\n",
    "список имен пользователей. Когда кто-то пытается зайти на сайт Facebook, система пытается найти имя пользователя. Если имя входит в список имен зарегистрированных пользователей, то вход разрешается. Пользователи приходят на Facebook достаточно часто, поэтому поиск по списку имен пользователей будет выполняться часто. Будем считать, что Facebook использует бинарный поиск для поиска в списке. Бинарному поиску необходим произвольный доступ - алгоритм должен мгновенно обратиться к среднему элементу текущей части\n",
    "списка. Зная это обстоятельство, как бы вы реализовали список пользователей: в виде массива или в виде связанного списка?"
   ]
  },
  {
   "cell_type": "markdown",
   "id": "678a764e-ab35-42a4-afa6-84eaefd305cd",
   "metadata": {},
   "source": [
    "В данном случае лучше использовать **массивы**"
   ]
  },
  {
   "cell_type": "markdown",
   "id": "f3446fdc-d8d2-4e39-976a-9f5ed6082ee6",
   "metadata": {},
   "source": [
    "3"
   ]
  },
  {
   "cell_type": "markdown",
   "id": "39829e9d-2c85-410d-9450-99a34fa9e4d2",
   "metadata": {},
   "source": [
    "Пользователи также довольно часто создают новые учетные записи на Facebook. Предположим, вы решили использовать массив для хранения списка пользователей. Какими недостатками обладает массив для выполнения вставки? Допустим, вы используете бинарный поиск для нахождения учетных данных. Что произойдет при добавлении новых\n",
    "пользователей в массив?"
   ]
  },
  {
   "cell_type": "markdown",
   "id": "da9753ed-68ae-4185-b9c7-f164c7c71305",
   "metadata": {},
   "source": [
    "Всех остальных пользователей нужно будет двигать в другие ячейки памяти. Такая вставка займет много времени."
   ]
  },
  {
   "cell_type": "markdown",
   "id": "9b46906c-7984-416d-a813-5a7f4ea4bd82",
   "metadata": {},
   "source": [
    "## Сортировка выбором "
   ]
  },
  {
   "cell_type": "markdown",
   "id": "8f21eeb5-1c72-471f-886d-b8e5148d9fb6",
   "metadata": {},
   "source": [
    "Допустим, у вас на компьютере записана музыка и для каждого исполнителя хранится счетчик воспроизведений."
   ]
  },
  {
   "cell_type": "code",
   "execution_count": 8,
   "id": "a712bd9e-6c38-4bc3-b1f8-3fdd04754cd4",
   "metadata": {},
   "outputs": [
    {
     "data": {
      "text/html": [
       "<div>\n",
       "<style scoped>\n",
       "    .dataframe tbody tr th:only-of-type {\n",
       "        vertical-align: middle;\n",
       "    }\n",
       "\n",
       "    .dataframe tbody tr th {\n",
       "        vertical-align: top;\n",
       "    }\n",
       "\n",
       "    .dataframe thead th {\n",
       "        text-align: right;\n",
       "    }\n",
       "</style>\n",
       "<table border=\"1\" class=\"dataframe\">\n",
       "  <thead>\n",
       "    <tr style=\"text-align: right;\">\n",
       "      <th></th>\n",
       "      <th>Счетчик воспроизведения</th>\n",
       "    </tr>\n",
       "  </thead>\n",
       "  <tbody>\n",
       "    <tr>\n",
       "      <th>Radiohead</th>\n",
       "      <td>156</td>\n",
       "    </tr>\n",
       "    <tr>\n",
       "      <th>Kishore Kumar</th>\n",
       "      <td>141</td>\n",
       "    </tr>\n",
       "    <tr>\n",
       "      <th>THe black keys</th>\n",
       "      <td>35</td>\n",
       "    </tr>\n",
       "    <tr>\n",
       "      <th>Neutral milk hotel</th>\n",
       "      <td>94</td>\n",
       "    </tr>\n",
       "    <tr>\n",
       "      <th>Beck</th>\n",
       "      <td>88</td>\n",
       "    </tr>\n",
       "    <tr>\n",
       "      <th>The strokes</th>\n",
       "      <td>61</td>\n",
       "    </tr>\n",
       "    <tr>\n",
       "      <th>Wilco</th>\n",
       "      <td>111</td>\n",
       "    </tr>\n",
       "  </tbody>\n",
       "</table>\n",
       "</div>"
      ],
      "text/plain": [
       "                    Счетчик воспроизведения\n",
       "Radiohead                               156\n",
       "Kishore Kumar                           141\n",
       "THe black keys                           35\n",
       "Neutral milk hotel                       94\n",
       "Beck                                     88\n",
       "The strokes                              61\n",
       "Wilco                                   111"
      ]
     },
     "execution_count": 8,
     "metadata": {},
     "output_type": "execute_result"
    }
   ],
   "source": [
    "chart_list = pd.DataFrame({\n",
    "    'Счетчик воспроизведения': [156, 141, 35, 94, 88, 61, 111],   \n",
    "}, index=['Radiohead', 'Kishore Kumar', 'THe black keys', 'Neutral milk hotel', 'Beck', 'The strokes', 'Wilco'])\n",
    "\n",
    "chart_list"
   ]
  },
  {
   "cell_type": "markdown",
   "id": "c56b2f3c-5893-4f7c-9dd7-80a278b7ea7e",
   "metadata": {},
   "source": [
    "Вы хотите отсортировать список по убыванию счетчика воспроизведений, чтобы самые любимые исполнители стояли на первых местах. Как это сделать?\n",
    "\n",
    "Одно из возможных решений - пройти по списку и найти исполнителя с наибольшим количеством воспроизведений. Этот исполнитель добавляется в новый список."
   ]
  },
  {
   "cell_type": "code",
   "execution_count": 9,
   "id": "7de29ee5-e501-46bc-99a0-8838b12a140c",
   "metadata": {},
   "outputs": [
    {
     "data": {
      "text/html": [
       "<div>\n",
       "<style scoped>\n",
       "    .dataframe tbody tr th:only-of-type {\n",
       "        vertical-align: middle;\n",
       "    }\n",
       "\n",
       "    .dataframe tbody tr th {\n",
       "        vertical-align: top;\n",
       "    }\n",
       "\n",
       "    .dataframe thead th {\n",
       "        text-align: right;\n",
       "    }\n",
       "</style>\n",
       "<table border=\"1\" class=\"dataframe\">\n",
       "  <thead>\n",
       "    <tr style=\"text-align: right;\">\n",
       "      <th></th>\n",
       "      <th>Счетчик воспроизведения</th>\n",
       "    </tr>\n",
       "  </thead>\n",
       "  <tbody>\n",
       "    <tr>\n",
       "      <th>Radiohead</th>\n",
       "      <td>156</td>\n",
       "    </tr>\n",
       "  </tbody>\n",
       "</table>\n",
       "</div>"
      ],
      "text/plain": [
       "           Счетчик воспроизведения\n",
       "Radiohead                      156"
      ]
     },
     "execution_count": 9,
     "metadata": {},
     "output_type": "execute_result"
    }
   ],
   "source": [
    "new_list = pd.DataFrame({\n",
    "    'Счетчик воспроизведения': [156],   \n",
    "}, index=['Radiohead'])\n",
    "\n",
    "new_list"
   ]
  },
  {
   "cell_type": "markdown",
   "id": "76732fd8-3837-4180-9162-70a8a38641f5",
   "metadata": {},
   "source": [
    "Потом то же самое происходит со следующим по количеству воспроизведений исполнителем."
   ]
  },
  {
   "cell_type": "code",
   "execution_count": 10,
   "id": "a14ebdd1-2b00-4d3d-8eec-24e55977b8b8",
   "metadata": {},
   "outputs": [
    {
     "data": {
      "text/html": [
       "<div>\n",
       "<style scoped>\n",
       "    .dataframe tbody tr th:only-of-type {\n",
       "        vertical-align: middle;\n",
       "    }\n",
       "\n",
       "    .dataframe tbody tr th {\n",
       "        vertical-align: top;\n",
       "    }\n",
       "\n",
       "    .dataframe thead th {\n",
       "        text-align: right;\n",
       "    }\n",
       "</style>\n",
       "<table border=\"1\" class=\"dataframe\">\n",
       "  <thead>\n",
       "    <tr style=\"text-align: right;\">\n",
       "      <th></th>\n",
       "      <th>Счетчик воспроизведения</th>\n",
       "    </tr>\n",
       "  </thead>\n",
       "  <tbody>\n",
       "    <tr>\n",
       "      <th>Radiohead</th>\n",
       "      <td>156</td>\n",
       "    </tr>\n",
       "    <tr>\n",
       "      <th>Kishore Kumar</th>\n",
       "      <td>141</td>\n",
       "    </tr>\n",
       "  </tbody>\n",
       "</table>\n",
       "</div>"
      ],
      "text/plain": [
       "               Счетчик воспроизведения\n",
       "Radiohead                          156\n",
       "Kishore Kumar                      141"
      ]
     },
     "execution_count": 10,
     "metadata": {},
     "output_type": "execute_result"
    }
   ],
   "source": [
    "new_list = pd.DataFrame({\n",
    "    'Счетчик воспроизведения': [156, 141],   \n",
    "}, index=['Radiohead', 'Kishore Kumar'])\n",
    "\n",
    "new_list"
   ]
  },
  {
   "cell_type": "markdown",
   "id": "f7b0aead-83d6-4433-86cd-2b688f2d9e68",
   "metadata": {},
   "source": [
    "Продолжая действовать так, мы получаем отсортированный список."
   ]
  },
  {
   "cell_type": "code",
   "execution_count": 11,
   "id": "594961f1-f7f4-4843-906f-8ddb8c850ed3",
   "metadata": {},
   "outputs": [
    {
     "data": {
      "text/html": [
       "<div>\n",
       "<style scoped>\n",
       "    .dataframe tbody tr th:only-of-type {\n",
       "        vertical-align: middle;\n",
       "    }\n",
       "\n",
       "    .dataframe tbody tr th {\n",
       "        vertical-align: top;\n",
       "    }\n",
       "\n",
       "    .dataframe thead th {\n",
       "        text-align: right;\n",
       "    }\n",
       "</style>\n",
       "<table border=\"1\" class=\"dataframe\">\n",
       "  <thead>\n",
       "    <tr style=\"text-align: right;\">\n",
       "      <th></th>\n",
       "      <th>Счетчик воспроизведения</th>\n",
       "    </tr>\n",
       "  </thead>\n",
       "  <tbody>\n",
       "    <tr>\n",
       "      <th>Radiohead</th>\n",
       "      <td>156</td>\n",
       "    </tr>\n",
       "    <tr>\n",
       "      <th>Kishore Kumar</th>\n",
       "      <td>141</td>\n",
       "    </tr>\n",
       "    <tr>\n",
       "      <th>Wilco</th>\n",
       "      <td>111</td>\n",
       "    </tr>\n",
       "    <tr>\n",
       "      <th>Neutral milk hotel</th>\n",
       "      <td>94</td>\n",
       "    </tr>\n",
       "    <tr>\n",
       "      <th>Beck</th>\n",
       "      <td>88</td>\n",
       "    </tr>\n",
       "    <tr>\n",
       "      <th>The strokes</th>\n",
       "      <td>61</td>\n",
       "    </tr>\n",
       "    <tr>\n",
       "      <th>The black keys</th>\n",
       "      <td>35</td>\n",
       "    </tr>\n",
       "  </tbody>\n",
       "</table>\n",
       "</div>"
      ],
      "text/plain": [
       "                    Счетчик воспроизведения\n",
       "Radiohead                               156\n",
       "Kishore Kumar                           141\n",
       "Wilco                                   111\n",
       "Neutral milk hotel                       94\n",
       "Beck                                     88\n",
       "The strokes                              61\n",
       "The black keys                           35"
      ]
     },
     "execution_count": 11,
     "metadata": {},
     "output_type": "execute_result"
    }
   ],
   "source": [
    "new_list = pd.DataFrame({\n",
    "    'Счетчик воспроизведения': [156, 141, 111, 94, 88, 61, 35],   \n",
    "}, index=['Radiohead', 'Kishore Kumar', 'Wilco', 'Neutral milk hotel', 'Beck', 'The strokes', 'The black keys'])\n",
    "\n",
    "new_list"
   ]
  },
  {
   "cell_type": "markdown",
   "id": "f8921004-d59d-4238-be64-752eb6efddca",
   "metadata": {},
   "source": [
    "Чтобы найти исполнителя с наибольшим значением счетчика воспроизведения , необходимо проверить каждый элемент в списке. Как вы уже видели, это делается за время О(п). Итак, имеется операция, выполняемая за время О( п ), и ее необходимо выполнить п раз!"
   ]
  },
  {
   "cell_type": "markdown",
   "id": "b9775047-8243-44a0-bab6-c92591b4ae3b",
   "metadata": {},
   "source": [
    "Все это требует времени О(n х n), или О(n2)."
   ]
  },
  {
   "cell_type": "markdown",
   "id": "6bf7bfb9-3423-4d58-a13f-554e59c24e44",
   "metadata": {},
   "source": [
    "Пример кода"
   ]
  },
  {
   "cell_type": "code",
   "execution_count": 21,
   "id": "df207255-81b3-4dbd-b0f5-3d9088eb985b",
   "metadata": {},
   "outputs": [],
   "source": [
    "def find_Smallest(arr):\n",
    "    smallest = arr[0]\n",
    "    smallest_index = 0\n",
    "    for i in range(1, len(arr)):\n",
    "        if arr[i] < smallest:\n",
    "            smallest = arr[i]\n",
    "            smallest_index = i\n",
    "    return smallest_index"
   ]
  },
  {
   "cell_type": "code",
   "execution_count": 43,
   "id": "858ce4bf-9200-4005-a07a-ec919be9902d",
   "metadata": {},
   "outputs": [],
   "source": [
    "a = [17, 18, 16, 8, 13, 11, 19, 11]"
   ]
  },
  {
   "cell_type": "code",
   "execution_count": 44,
   "id": "d47f0f10-ffd5-4dd4-956f-13245c65ec64",
   "metadata": {},
   "outputs": [
    {
     "name": "stdout",
     "output_type": "stream",
     "text": [
      "3\n"
     ]
    }
   ],
   "source": [
    "print(find_Smallest(a))"
   ]
  },
  {
   "cell_type": "markdown",
   "id": "948b881e-5012-4104-966d-6a155809042e",
   "metadata": {},
   "source": [
    "Теперь на основе этой функции можно написать функцию сортировки выбором:"
   ]
  },
  {
   "cell_type": "code",
   "execution_count": 45,
   "id": "e6915420-c356-4501-ad91-ab89aab3db2c",
   "metadata": {},
   "outputs": [],
   "source": [
    "def selectionSort(arr):\n",
    "    newArr = []\n",
    "    for i in range(len(arr)):\n",
    "        smallest = find_Smallest(arr)\n",
    "        newArr.append(arr.pop(smallest))\n",
    "    return newArr"
   ]
  },
  {
   "cell_type": "code",
   "execution_count": 46,
   "id": "6c155b29-97ba-4315-9e5e-1db3b5bdcaa3",
   "metadata": {},
   "outputs": [
    {
     "name": "stdout",
     "output_type": "stream",
     "text": [
      "[8, 11, 11, 13, 16, 17, 18, 19]\n"
     ]
    }
   ],
   "source": [
    "print(selectionSort(a))"
   ]
  },
  {
   "cell_type": "markdown",
   "id": "be8b6ee3-a032-4a27-afe7-54f33c0572da",
   "metadata": {},
   "source": [
    "## Шпаргалка\n",
    "\n",
    "    * Память компьютера напоминает ограмный шкаф с ящиками.\n",
    "    * Если вам потребуется сохранить набор элементов, воспользуйтесь массивом или списком.\n",
    "    * В массиве все элементы хранятся в памяти рядом друг с другом.\n",
    "    * В списке элементы распределяются в произвольных местах памяти, при этом в одном элементе хранится адрес следующего элемента.\n",
    "    * Массивы "
   ]
  },
  {
   "cell_type": "code",
   "execution_count": null,
   "id": "3d2ad5f6-4214-4fad-afcb-2d7b38420f58",
   "metadata": {},
   "outputs": [],
   "source": []
  }
 ],
 "metadata": {
  "kernelspec": {
   "display_name": "Python 3",
   "language": "python",
   "name": "python3"
  },
  "language_info": {
   "codemirror_mode": {
    "name": "ipython",
    "version": 3
   },
   "file_extension": ".py",
   "mimetype": "text/x-python",
   "name": "python",
   "nbconvert_exporter": "python",
   "pygments_lexer": "ipython3",
   "version": "3.8.10"
  }
 },
 "nbformat": 4,
 "nbformat_minor": 5
}
