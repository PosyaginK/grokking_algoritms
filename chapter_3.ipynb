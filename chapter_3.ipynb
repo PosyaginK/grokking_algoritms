{
 "cells": [
  {
   "cell_type": "markdown",
   "id": "9741f178-1909-4ddd-a076-4d246294a695",
   "metadata": {},
   "source": [
    "# Глава 3. Рекурсия "
   ]
  },
  {
   "cell_type": "markdown",
   "id": "07afd259-c504-43e1-939f-7badd5e6c693",
   "metadata": {},
   "source": [
    "**Рекурсия** - это вызов функцией самой себя."
   ]
  },
  {
   "cell_type": "markdown",
   "id": "2a15dfc9-e007-426d-9be7-155d218f5cc9",
   "metadata": {},
   "source": [
    "*\"Циклы могут ускорить работу программы. Рекурсия может ускорить работу программиста. Выбирайте, что важнее в вашей ситуации!\"*"
   ]
  },
  {
   "cell_type": "markdown",
   "id": "ca6b4228-5953-4231-a5c5-9d8bdb5dcaea",
   "metadata": {},
   "source": [
    "### Базовый случай и рекурсивый случай "
   ]
  },
  {
   "cell_type": "markdown",
   "id": "1f5a7781-1887-4b96-98c9-71c60a0c54eb",
   "metadata": {},
   "source": [
    "Каждая рекурсивная функция состоит из двух частей: *базового случая и рекурсивного случая*"
   ]
  },
  {
   "cell_type": "markdown",
   "id": "e65b3784-1dd4-4132-bf18-8ff4b997beda",
   "metadata": {},
   "source": [
    "*Простой пример*\n",
    "\n",
    "Выведем числа от 1 до 10 с помощью рекурсии"
   ]
  },
  {
   "cell_type": "code",
   "execution_count": 1,
   "id": "2ec9e413-a800-4ee0-aad0-27be520cb0e7",
   "metadata": {},
   "outputs": [],
   "source": [
    "def from_one_to_ten(i):\n",
    "    print(i)\n",
    "    if i == 10:\n",
    "        return\n",
    "    else:\n",
    "        from_one_to_ten(i + 1)"
   ]
  },
  {
   "cell_type": "code",
   "execution_count": 2,
   "id": "134c55aa-7a4c-4c96-9a4a-4e746646eea2",
   "metadata": {},
   "outputs": [
    {
     "name": "stdout",
     "output_type": "stream",
     "text": [
      "1\n",
      "2\n",
      "3\n",
      "4\n",
      "5\n",
      "6\n",
      "7\n",
      "8\n",
      "9\n",
      "10\n"
     ]
    }
   ],
   "source": [
    "from_one_to_ten(1)"
   ]
  },
  {
   "cell_type": "markdown",
   "id": "f26a1106-7002-4311-ae85-d56a4b8bb13b",
   "metadata": {},
   "source": [
    "Работает!"
   ]
  },
  {
   "cell_type": "markdown",
   "id": "5dddaa64-ffd3-4479-9ca2-8b72b7ea165f",
   "metadata": {},
   "source": [
    "### Стек "
   ]
  },
  {
   "cell_type": "markdown",
   "id": "3c34f942-e80d-4df6-acec-d4f933c4f282",
   "metadata": {},
   "source": [
    "**Стек**- простая структура данных. В ней хранятся некоторые значения переменных."
   ]
  },
  {
   "cell_type": "markdown",
   "id": "4a97a9c3-5090-4ece-b614-436f727c965e",
   "metadata": {},
   "source": [
    "Когда одна функция вызывается из другой, вызывающая функция приостанавливается в частично завершенном состоянии.Все значения переменных этой функции остаются в памяти."
   ]
  },
  {
   "cell_type": "markdown",
   "id": "b627a7f0-ff75-4bf8-992f-c1d1d5af146e",
   "metadata": {},
   "source": [
    "Стек вызовов с рекурсией"
   ]
  },
  {
   "cell_type": "markdown",
   "id": "3054f94e-b985-4830-be2d-e386d08310d9",
   "metadata": {},
   "source": [
    "Функция вычисления факториала"
   ]
  },
  {
   "cell_type": "code",
   "execution_count": 3,
   "id": "93bb4aff-d7bb-4c08-8520-57274273e3a0",
   "metadata": {},
   "outputs": [],
   "source": [
    "def fact(x):\n",
    "    if x == 1:\n",
    "        return x\n",
    "    else:\n",
    "        return x * fact(x-1)"
   ]
  },
  {
   "cell_type": "code",
   "execution_count": 4,
   "id": "9bf72b98-5731-496b-9ad4-ff27768e49db",
   "metadata": {},
   "outputs": [
    {
     "name": "stdout",
     "output_type": "stream",
     "text": [
      "120\n"
     ]
    }
   ],
   "source": [
    "print(fact(5))"
   ]
  },
  {
   "cell_type": "markdown",
   "id": "c9f22d82-90fe-4cac-af5a-ee1ff6bb8e50",
   "metadata": {},
   "source": [
    "## Шпргалка\n",
    "\n",
    "    * Когда функция вызывает саму себя, это называется рекурсией\n",
    "    * В каждой рукурсивной функции должно быть два случая: базовый и рекурсивный\n",
    "    * Стек поддерживает две операции: занесение и извлечение элементов\n",
    "    * Все вызовы функции сохраняются в стеке вызовов\n",
    "    * Если стек вызовов станет очень большим, он займет слишком много памяти"
   ]
  }
 ],
 "metadata": {
  "kernelspec": {
   "display_name": "Python 3",
   "language": "python",
   "name": "python3"
  },
  "language_info": {
   "codemirror_mode": {
    "name": "ipython",
    "version": 3
   },
   "file_extension": ".py",
   "mimetype": "text/x-python",
   "name": "python",
   "nbconvert_exporter": "python",
   "pygments_lexer": "ipython3",
   "version": "3.8.10"
  }
 },
 "nbformat": 4,
 "nbformat_minor": 5
}
